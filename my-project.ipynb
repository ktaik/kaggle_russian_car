{
 "cells": [
  {
   "cell_type": "markdown",
   "id": "b2ab049f",
   "metadata": {
    "papermill": {
     "duration": 0.004083,
     "end_time": "2025-05-16T05:29:52.972993",
     "exception": false,
     "start_time": "2025-05-16T05:29:52.968910",
     "status": "completed"
    },
    "tags": []
   },
   "source": [
    "# Import libraries and download AutoGluon"
   ]
  },
  {
   "cell_type": "code",
   "execution_count": 1,
   "id": "fa249a5e",
   "metadata": {
    "_kg_hide-input": false,
    "_kg_hide-output": true,
    "execution": {
     "iopub.execute_input": "2025-05-16T05:29:52.982263Z",
     "iopub.status.busy": "2025-05-16T05:29:52.981773Z",
     "iopub.status.idle": "2025-05-16T05:31:15.792254Z",
     "shell.execute_reply": "2025-05-16T05:31:15.790356Z"
    },
    "papermill": {
     "duration": 82.818492,
     "end_time": "2025-05-16T05:31:15.795818",
     "exception": false,
     "start_time": "2025-05-16T05:29:52.977326",
     "status": "completed"
    },
    "tags": []
   },
   "outputs": [
    {
     "name": "stdout",
     "output_type": "stream",
     "text": [
      "\u001b[2K     \u001b[90m━━━━━━━━━━━━━━━━━━━━━━━━━━━━━━━━━━━━━━━━\u001b[0m \u001b[32m43.6/43.6 kB\u001b[0m \u001b[31m1.9 MB/s\u001b[0m eta \u001b[36m0:00:00\u001b[0m\r\n",
      "\u001b[?25h  Preparing metadata (setup.py) ... \u001b[?25l\u001b[?25hdone\r\n",
      "\u001b[2K     \u001b[90m━━━━━━━━━━━━━━━━━━━━━━━━━━━━━━━━━━━━━━━━\u001b[0m \u001b[32m43.6/43.6 kB\u001b[0m \u001b[31m2.0 MB/s\u001b[0m eta \u001b[36m0:00:00\u001b[0m\r\n",
      "\u001b[?25h  Preparing metadata (setup.py) ... \u001b[?25l\u001b[?25hdone\r\n",
      "\u001b[2K     \u001b[90m━━━━━━━━━━━━━━━━━━━━━━━━━━━━━━━━━━━━━━━━\u001b[0m \u001b[32m259.5/259.5 kB\u001b[0m \u001b[31m10.8 MB/s\u001b[0m eta \u001b[36m0:00:00\u001b[0m\r\n",
      "\u001b[?25h  Preparing metadata (setup.py) ... \u001b[?25l\u001b[?25hdone\r\n",
      "\u001b[2K   \u001b[90m━━━━━━━━━━━━━━━━━━━━━━━━━━━━━━━━━━━━━━━━\u001b[0m \u001b[32m200.3/200.3 MB\u001b[0m \u001b[31m8.1 MB/s\u001b[0m eta \u001b[36m0:00:00\u001b[0m\r\n",
      "\u001b[2K   \u001b[90m━━━━━━━━━━━━━━━━━━━━━━━━━━━━━━━━━━━━━━━━\u001b[0m \u001b[32m266.2/266.2 kB\u001b[0m \u001b[31m11.2 MB/s\u001b[0m eta \u001b[36m0:00:00\u001b[0m\r\n",
      "\u001b[2K   \u001b[90m━━━━━━━━━━━━━━━━━━━━━━━━━━━━━━━━━━━━━━━━\u001b[0m \u001b[32m64.1/64.1 kB\u001b[0m \u001b[31m3.0 MB/s\u001b[0m eta \u001b[36m0:00:00\u001b[0m\r\n",
      "\u001b[2K   \u001b[90m━━━━━━━━━━━━━━━━━━━━━━━━━━━━━━━━━━━━━━━━\u001b[0m \u001b[32m430.0/430.0 kB\u001b[0m \u001b[31m20.3 MB/s\u001b[0m eta \u001b[36m0:00:00\u001b[0m\r\n",
      "\u001b[2K   \u001b[90m━━━━━━━━━━━━━━━━━━━━━━━━━━━━━━━━━━━━━━━━\u001b[0m \u001b[32m352.2/352.2 kB\u001b[0m \u001b[31m14.0 MB/s\u001b[0m eta \u001b[36m0:00:00\u001b[0m\r\n",
      "\u001b[2K   \u001b[90m━━━━━━━━━━━━━━━━━━━━━━━━━━━━━━━━━━━━━━━━\u001b[0m \u001b[32m174.7/174.7 kB\u001b[0m \u001b[31m6.1 MB/s\u001b[0m eta \u001b[36m0:00:00\u001b[0m\r\n",
      "\u001b[2K   \u001b[90m━━━━━━━━━━━━━━━━━━━━━━━━━━━━━━━━━━━━━━━━\u001b[0m \u001b[32m68.2/68.2 kB\u001b[0m \u001b[31m2.9 MB/s\u001b[0m eta \u001b[36m0:00:00\u001b[0m\r\n",
      "\u001b[2K   \u001b[90m━━━━━━━━━━━━━━━━━━━━━━━━━━━━━━━━━━━━━━━━\u001b[0m \u001b[32m196.7/196.7 kB\u001b[0m \u001b[31m9.9 MB/s\u001b[0m eta \u001b[36m0:00:00\u001b[0m\r\n",
      "\u001b[2K   \u001b[90m━━━━━━━━━━━━━━━━━━━━━━━━━━━━━━━━━━━━━━━━\u001b[0m \u001b[32m71.0/71.0 kB\u001b[0m \u001b[31m3.7 MB/s\u001b[0m eta \u001b[36m0:00:00\u001b[0m\r\n",
      "\u001b[2K   \u001b[90m━━━━━━━━━━━━━━━━━━━━━━━━━━━━━━━━━━━━━━━━\u001b[0m \u001b[32m324.4/324.4 kB\u001b[0m \u001b[31m17.1 MB/s\u001b[0m eta \u001b[36m0:00:00\u001b[0m\r\n",
      "\u001b[2K   \u001b[90m━━━━━━━━━━━━━━━━━━━━━━━━━━━━━━━━━━━━━━━━\u001b[0m \u001b[32m84.0/84.0 kB\u001b[0m \u001b[31m3.1 MB/s\u001b[0m eta \u001b[36m0:00:00\u001b[0m\r\n",
      "\u001b[2K   \u001b[90m━━━━━━━━━━━━━━━━━━━━━━━━━━━━━━━━━━━━━━━━\u001b[0m \u001b[32m278.2/278.2 kB\u001b[0m \u001b[31m11.6 MB/s\u001b[0m eta \u001b[36m0:00:00\u001b[0m\r\n",
      "\u001b[2K   \u001b[90m━━━━━━━━━━━━━━━━━━━━━━━━━━━━━━━━━━━━━━━━\u001b[0m \u001b[32m1.5/1.5 MB\u001b[0m \u001b[31m47.8 MB/s\u001b[0m eta \u001b[36m0:00:00\u001b[0m\r\n",
      "\u001b[2K   \u001b[90m━━━━━━━━━━━━━━━━━━━━━━━━━━━━━━━━━━━━━━━━\u001b[0m \u001b[32m85.5/85.5 kB\u001b[0m \u001b[31m4.0 MB/s\u001b[0m eta \u001b[36m0:00:00\u001b[0m\r\n",
      "\u001b[2K   \u001b[90m━━━━━━━━━━━━━━━━━━━━━━━━━━━━━━━━━━━━━━━━\u001b[0m \u001b[32m819.0/819.0 kB\u001b[0m \u001b[31m28.8 MB/s\u001b[0m eta \u001b[36m0:00:00\u001b[0m\r\n",
      "\u001b[2K   \u001b[90m━━━━━━━━━━━━━━━━━━━━━━━━━━━━━━━━━━━━━━━━\u001b[0m \u001b[32m410.5/410.5 kB\u001b[0m \u001b[31m18.2 MB/s\u001b[0m eta \u001b[36m0:00:00\u001b[0m\r\n",
      "\u001b[2K   \u001b[90m━━━━━━━━━━━━━━━━━━━━━━━━━━━━━━━━━━━━━━━━\u001b[0m \u001b[32m1.5/1.5 MB\u001b[0m \u001b[31m41.2 MB/s\u001b[0m eta \u001b[36m0:00:00\u001b[0m\r\n",
      "\u001b[2K   \u001b[90m━━━━━━━━━━━━━━━━━━━━━━━━━━━━━━━━━━━━━━━━\u001b[0m \u001b[32m79.3/79.3 kB\u001b[0m \u001b[31m3.7 MB/s\u001b[0m eta \u001b[36m0:00:00\u001b[0m\r\n",
      "\u001b[2K   \u001b[90m━━━━━━━━━━━━━━━━━━━━━━━━━━━━━━━━━━━━━━━━\u001b[0m \u001b[32m52.7/52.7 kB\u001b[0m \u001b[31m2.0 MB/s\u001b[0m eta \u001b[36m0:00:00\u001b[0m\r\n",
      "\u001b[2K   \u001b[90m━━━━━━━━━━━━━━━━━━━━━━━━━━━━━━━━━━━━━━━━\u001b[0m \u001b[32m115.3/115.3 kB\u001b[0m \u001b[31m3.9 MB/s\u001b[0m eta \u001b[36m0:00:00\u001b[0m\r\n",
      "\u001b[2K   \u001b[90m━━━━━━━━━━━━━━━━━━━━━━━━━━━━━━━━━━━━━━━━\u001b[0m \u001b[32m66.3/66.3 MB\u001b[0m \u001b[31m23.7 MB/s\u001b[0m eta \u001b[36m0:00:00\u001b[0m\r\n",
      "\u001b[2K   \u001b[90m━━━━━━━━━━━━━━━━━━━━━━━━━━━━━━━━━━━━━━━━\u001b[0m \u001b[32m14.9/14.9 MB\u001b[0m \u001b[31m68.3 MB/s\u001b[0m eta \u001b[36m0:00:00\u001b[0m\r\n",
      "\u001b[2K   \u001b[90m━━━━━━━━━━━━━━━━━━━━━━━━━━━━━━━━━━━━━━━━\u001b[0m \u001b[32m13.3/13.3 MB\u001b[0m \u001b[31m56.5 MB/s\u001b[0m eta \u001b[36m0:00:00\u001b[0m\r\n",
      "\u001b[2K   \u001b[90m━━━━━━━━━━━━━━━━━━━━━━━━━━━━━━━━━━━━━━━━\u001b[0m \u001b[32m314.7/314.7 kB\u001b[0m \u001b[31m8.4 MB/s\u001b[0m eta \u001b[36m0:00:00\u001b[0m\r\n",
      "\u001b[2K   \u001b[90m━━━━━━━━━━━━━━━━━━━━━━━━━━━━━━━━━━━━━━━━\u001b[0m \u001b[32m2.3/2.3 MB\u001b[0m \u001b[31m54.3 MB/s\u001b[0m eta \u001b[36m0:00:00\u001b[0m\r\n",
      "\u001b[2K   \u001b[90m━━━━━━━━━━━━━━━━━━━━━━━━━━━━━━━━━━━━━━━━\u001b[0m \u001b[32m806.1/806.1 kB\u001b[0m \u001b[31m22.0 MB/s\u001b[0m eta \u001b[36m0:00:00\u001b[0m\r\n",
      "\u001b[2K   \u001b[90m━━━━━━━━━━━━━━━━━━━━━━━━━━━━━━━━━━━━━━━━\u001b[0m \u001b[32m40.3/40.3 kB\u001b[0m \u001b[31m1.1 MB/s\u001b[0m eta \u001b[36m0:00:00\u001b[0m\r\n",
      "\u001b[2K   \u001b[90m━━━━━━━━━━━━━━━━━━━━━━━━━━━━━━━━━━━━━━━━\u001b[0m \u001b[32m2.7/2.7 MB\u001b[0m \u001b[31m47.5 MB/s\u001b[0m eta \u001b[36m0:00:00\u001b[0m\r\n",
      "\u001b[2K   \u001b[90m━━━━━━━━━━━━━━━━━━━━━━━━━━━━━━━━━━━━━━━━\u001b[0m \u001b[32m101.7/101.7 kB\u001b[0m \u001b[31m4.8 MB/s\u001b[0m eta \u001b[36m0:00:00\u001b[0m\r\n",
      "\u001b[2K   \u001b[90m━━━━━━━━━━━━━━━━━━━━━━━━━━━━━━━━━━━━━━━━\u001b[0m \u001b[32m62.3/62.3 kB\u001b[0m \u001b[31m2.9 MB/s\u001b[0m eta \u001b[36m0:00:00\u001b[0m\r\n",
      "\u001b[2K   \u001b[90m━━━━━━━━━━━━━━━━━━━━━━━━━━━━━━━━━━━━━━━━\u001b[0m \u001b[32m6.1/6.1 MB\u001b[0m \u001b[31m75.5 MB/s\u001b[0m eta \u001b[36m0:00:00\u001b[0m\r\n",
      "\u001b[2K   \u001b[90m━━━━━━━━━━━━━━━━━━━━━━━━━━━━━━━━━━━━━━━━\u001b[0m \u001b[32m201.4/201.4 kB\u001b[0m \u001b[31m9.4 MB/s\u001b[0m eta \u001b[36m0:00:00\u001b[0m\r\n",
      "\u001b[2K   \u001b[90m━━━━━━━━━━━━━━━━━━━━━━━━━━━━━━━━━━━━━━━━\u001b[0m \u001b[32m8.2/8.2 MB\u001b[0m \u001b[31m76.2 MB/s\u001b[0m eta \u001b[36m0:00:00\u001b[0m\r\n",
      "\u001b[2K   \u001b[90m━━━━━━━━━━━━━━━━━━━━━━━━━━━━━━━━━━━━━━━━\u001b[0m \u001b[32m128.2/128.2 kB\u001b[0m \u001b[31m6.3 MB/s\u001b[0m eta \u001b[36m0:00:00\u001b[0m\r\n",
      "\u001b[2K   \u001b[90m━━━━━━━━━━━━━━━━━━━━━━━━━━━━━━━━━━━━━━━━\u001b[0m \u001b[32m469.0/469.0 kB\u001b[0m \u001b[31m16.5 MB/s\u001b[0m eta \u001b[36m0:00:00\u001b[0m\r\n",
      "\u001b[2K   \u001b[90m━━━━━━━━━━━━━━━━━━━━━━━━━━━━━━━━━━━━━━━━\u001b[0m \u001b[32m685.6/685.6 kB\u001b[0m \u001b[31m27.9 MB/s\u001b[0m eta \u001b[36m0:00:00\u001b[0m\r\n",
      "\u001b[2K   \u001b[90m━━━━━━━━━━━━━━━━━━━━━━━━━━━━━━━━━━━━━━━━\u001b[0m \u001b[32m135.3/135.3 kB\u001b[0m \u001b[31m6.5 MB/s\u001b[0m eta \u001b[36m0:00:00\u001b[0m\r\n",
      "\u001b[2K   \u001b[90m━━━━━━━━━━━━━━━━━━━━━━━━━━━━━━━━━━━━━━━━\u001b[0m \u001b[32m55.3/55.3 kB\u001b[0m \u001b[31m1.7 MB/s\u001b[0m eta \u001b[36m0:00:00\u001b[0m\r\n",
      "\u001b[?25h  Building wheel for nvidia-ml-py3 (setup.py) ... \u001b[?25l\u001b[?25hdone\r\n",
      "  Building wheel for seqeval (setup.py) ... \u001b[?25l\u001b[?25hdone\r\n",
      "\u001b[31mERROR: pip's dependency resolver does not currently take into account all the packages that are installed. This behaviour is the source of the following dependency conflicts.\r\n",
      "preprocessing 0.1.13 requires nltk==3.2.4, but you have nltk 3.8.1 which is incompatible.\u001b[0m\u001b[31m\r\n",
      "\u001b[0m"
     ]
    }
   ],
   "source": [
    "import os\n",
    "import sys\n",
    "import string\n",
    "import pandas as pd\n",
    "import numpy as np\n",
    "import matplotlib.pyplot as plt\n",
    "import torch\n",
    "from tqdm import tqdm\n",
    "import warnings\n",
    "\n",
    "warnings.filterwarnings('ignore')\n",
    "\n",
    "!pip install -q autogluon xgboost==1.7.6\n",
    "\n",
    "from autogluon.tabular import TabularDataset, TabularPredictor\n",
    "from autogluon.core.metrics import make_scorer\n",
    "import xgboost as xgb"
   ]
  },
  {
   "cell_type": "markdown",
   "id": "1db6fdcf",
   "metadata": {
    "execution": {
     "iopub.status.busy": "2025-03-18T04:19:13.330376Z",
     "iopub.status.idle": "2025-03-18T04:19:13.330848Z",
     "shell.execute_reply": "2025-03-18T04:19:13.33065Z"
    },
    "papermill": {
     "duration": 0.010729,
     "end_time": "2025-05-16T05:31:15.822368",
     "exception": false,
     "start_time": "2025-05-16T05:31:15.811639",
     "status": "completed"
    },
    "tags": []
   },
   "source": [
    "# How the plate looks like?"
   ]
  },
  {
   "cell_type": "markdown",
   "id": "14527913",
   "metadata": {
    "papermill": {
     "duration": 0.01201,
     "end_time": "2025-05-16T05:31:15.847816",
     "exception": false,
     "start_time": "2025-05-16T05:31:15.835806",
     "status": "completed"
    },
    "tags": []
   },
   "source": [
    "The plate consists of series and number, where the last two or three digits are the region code. Courtesy from [Skoda-storyboard](https://www.skoda-storyboard.com/en/models/deciphering-number-plates-russia/).\n",
    "![image](https://cdn.skoda-storyboard.com/2019/04/Russian-license-plate-english.jpg#?s_aid=bd5wemcb-uz36-l03s-yigd-6qaeks5bqrk7_004_1)"
   ]
  },
  {
   "cell_type": "markdown",
   "id": "1a94cd88",
   "metadata": {
    "papermill": {
     "duration": 0.012673,
     "end_time": "2025-05-16T05:31:15.871474",
     "exception": false,
     "start_time": "2025-05-16T05:31:15.858801",
     "status": "completed"
    },
    "tags": []
   },
   "source": [
    "# Define all functions for feature extraction/engineer"
   ]
  },
  {
   "cell_type": "markdown",
   "id": "b6e31dd6",
   "metadata": {
    "papermill": {
     "duration": 0.013991,
     "end_time": "2025-05-16T05:31:15.896977",
     "exception": false,
     "start_time": "2025-05-16T05:31:15.882986",
     "status": "completed"
    },
    "tags": []
   },
   "source": [
    "We will use the supplementary files and split the plate characters, then date time..."
   ]
  },
  {
   "cell_type": "code",
   "execution_count": 2,
   "id": "233bdd15",
   "metadata": {
    "execution": {
     "iopub.execute_input": "2025-05-16T05:31:15.923199Z",
     "iopub.status.busy": "2025-05-16T05:31:15.922403Z",
     "iopub.status.idle": "2025-05-16T05:31:15.971266Z",
     "shell.execute_reply": "2025-05-16T05:31:15.969820Z"
    },
    "papermill": {
     "duration": 0.062664,
     "end_time": "2025-05-16T05:31:15.973258",
     "exception": false,
     "start_time": "2025-05-16T05:31:15.910594",
     "status": "completed"
    },
    "tags": []
   },
   "outputs": [],
   "source": [
    "from supplemental_english import *  # REGION_CODES, GOVERNMENT_CODES\n",
    "\n",
    "# Ensure the logs directory exists\n",
    "os.makedirs(\"./logs\", exist_ok=True)\n",
    "\n",
    "# Define log file path\n",
    "log_file_path = \"./logs/training_log.txt\"\n",
    "\n",
    "# Function to log messages to both console and file\n",
    "def printt(message):\n",
    "    print(message)\n",
    "    with open(log_file_path, \"a\") as log_file:\n",
    "        log_file.write(message + \"\\n\")\n",
    "\n",
    "# SMAPE\n",
    "def smape(y_true, y_pred):\n",
    "    y_pred = np.exp(y_pred)  \n",
    "    y_true = np.exp(y_true) \n",
    "    return np.mean(2 * np.abs(y_pred - y_true) / (np.abs(y_true) + np.abs(y_pred) + 1e-8)) * 100\n",
    "\n",
    "def find_importance_values_for_plate(plate: str, gov_codes: dict) -> tuple:\n",
    "    letters = plate[0] + plate[4:6]  # Extracts letters\n",
    "    numbers = int(plate[1:4])  # Extracts numbers\n",
    "    region_code = plate[6:]  # Extracts region code\n",
    "\n",
    "    # print(plate, \"---\", letters, numbers, region_code)\n",
    "    \n",
    "    for (code_letters, num_range, region), details in gov_codes.items():\n",
    "        if letters == code_letters and region_code == region:\n",
    "            if num_range[0] <= numbers <= num_range[1]:  # Checks if within range\n",
    "                return (details[2], details[3])  # Importance values\n",
    "    \n",
    "    return (0, 0)  # Ordinary plate, no government affiliation\n",
    "\n",
    "\n",
    "def add_advantage_on_road_and_significance(data: pd.DataFrame) -> pd.DataFrame:\n",
    "    def apply_helper(row):\n",
    "        advantage_on_road, significance = find_importance_values_for_plate(row[\"plate\"], GOVERNMENT_CODES)\n",
    "        return pd.Series({\n",
    "            \"advantage_on_road\": advantage_on_road,\n",
    "            \"significance\": significance,\n",
    "        })\n",
    "\n",
    "    data[[\"advantage_on_road\", \"significance\"]] = data.apply(apply_helper, axis=1)\n",
    "    return data\n",
    "\n",
    "def encode_plate(plate: str) -> list[int]:\n",
    "    encoded = []\n",
    "    for char in plate:\n",
    "        if char in char2idx:\n",
    "            encoded.append(char2idx[char])\n",
    "        else:\n",
    "            encoded.append(0)\n",
    "    return encoded\n",
    "\n",
    "# Define constants\n",
    "PLATE_POSSIBLE_LETTERS = \"ABEKMHOPCTYX\"  # 12 total\n",
    "ALL_CHARS = PLATE_POSSIBLE_LETTERS + string.digits  # 12 + 10 = 22 total\n",
    "RANDOM_STATE = 37\n",
    "char2idx = {c: i for i, c in enumerate(ALL_CHARS)}  # char to identifier map"
   ]
  },
  {
   "cell_type": "markdown",
   "id": "d5bdf993",
   "metadata": {
    "papermill": {
     "duration": 0.010381,
     "end_time": "2025-05-16T05:31:15.994584",
     "exception": false,
     "start_time": "2025-05-16T05:31:15.984203",
     "status": "completed"
    },
    "tags": []
   },
   "source": [
    "# Pre-process data"
   ]
  },
  {
   "cell_type": "code",
   "execution_count": 3,
   "id": "061d21a5",
   "metadata": {
    "execution": {
     "iopub.execute_input": "2025-05-16T05:31:16.019200Z",
     "iopub.status.busy": "2025-05-16T05:31:16.018775Z",
     "iopub.status.idle": "2025-05-16T05:31:31.475251Z",
     "shell.execute_reply": "2025-05-16T05:31:31.473749Z"
    },
    "papermill": {
     "duration": 15.471372,
     "end_time": "2025-05-16T05:31:31.477553",
     "exception": false,
     "start_time": "2025-05-16T05:31:16.006181",
     "status": "completed"
    },
    "tags": []
   },
   "outputs": [
    {
     "data": {
      "text/html": [
       "<div>\n",
       "<style scoped>\n",
       "    .dataframe tbody tr th:only-of-type {\n",
       "        vertical-align: middle;\n",
       "    }\n",
       "\n",
       "    .dataframe tbody tr th {\n",
       "        vertical-align: top;\n",
       "    }\n",
       "\n",
       "    .dataframe thead th {\n",
       "        text-align: right;\n",
       "    }\n",
       "</style>\n",
       "<table border=\"1\" class=\"dataframe\">\n",
       "  <thead>\n",
       "    <tr style=\"text-align: right;\">\n",
       "      <th></th>\n",
       "      <th>price</th>\n",
       "      <th>year</th>\n",
       "      <th>weekday</th>\n",
       "      <th>day_of_year</th>\n",
       "      <th>advantage_on_road</th>\n",
       "      <th>significance</th>\n",
       "      <th>region_name</th>\n",
       "      <th>plate_number</th>\n",
       "      <th>plate_series</th>\n",
       "      <th>plate_region</th>\n",
       "      <th>is_zoro</th>\n",
       "      <th>is_vip</th>\n",
       "      <th>is_seq</th>\n",
       "      <th>has_repeated_letters</th>\n",
       "      <th>region_avg_price</th>\n",
       "    </tr>\n",
       "  </thead>\n",
       "  <tbody>\n",
       "    <tr>\n",
       "      <th>0</th>\n",
       "      <td>11.082158</td>\n",
       "      <td>2024</td>\n",
       "      <td>3</td>\n",
       "      <td>361</td>\n",
       "      <td>0</td>\n",
       "      <td>0</td>\n",
       "      <td>Moscow</td>\n",
       "      <td>059</td>\n",
       "      <td>XCP</td>\n",
       "      <td>797</td>\n",
       "      <td>0</td>\n",
       "      <td>0</td>\n",
       "      <td>0</td>\n",
       "      <td>False</td>\n",
       "      <td>13.156570</td>\n",
       "    </tr>\n",
       "    <tr>\n",
       "      <th>1</th>\n",
       "      <td>11.512935</td>\n",
       "      <td>2024</td>\n",
       "      <td>4</td>\n",
       "      <td>194</td>\n",
       "      <td>0</td>\n",
       "      <td>0</td>\n",
       "      <td>Moscow Oblast</td>\n",
       "      <td>800</td>\n",
       "      <td>YMH</td>\n",
       "      <td>790</td>\n",
       "      <td>0</td>\n",
       "      <td>1</td>\n",
       "      <td>0</td>\n",
       "      <td>False</td>\n",
       "      <td>12.689147</td>\n",
       "    </tr>\n",
       "  </tbody>\n",
       "</table>\n",
       "</div>"
      ],
      "text/plain": [
       "       price  year  weekday  day_of_year  advantage_on_road  significance  \\\n",
       "0  11.082158  2024        3          361                  0             0   \n",
       "1  11.512935  2024        4          194                  0             0   \n",
       "\n",
       "     region_name plate_number plate_series plate_region  is_zoro  is_vip  \\\n",
       "0         Moscow          059          XCP          797        0       0   \n",
       "1  Moscow Oblast          800          YMH          790        0       1   \n",
       "\n",
       "   is_seq  has_repeated_letters  region_avg_price  \n",
       "0       0                 False         13.156570  \n",
       "1       0                 False         12.689147  "
      ]
     },
     "execution_count": 3,
     "metadata": {},
     "output_type": "execute_result"
    }
   ],
   "source": [
    "# preprocess data\n",
    "def get_region_code(plate):\n",
    "    region_code = str(int(plate[6:]))\n",
    "    for region, codes in REGION_CODES.items():\n",
    "        if region_code in codes:\n",
    "            return region\n",
    "    return \"Unknown\"\n",
    "\n",
    "def is_zoro(num_str):\n",
    "    \"\"\"ゾロ目を検知\"\"\"\n",
    "    return int(len(set(num_str)) == 1)\n",
    "\n",
    "def has_repeated_letters(x):\n",
    "    return len(set(x)) < len(x)\n",
    "\n",
    "VIP_NUMBERS = {\n",
    "    \"001\", \"002\", \"003\", \"007\",\n",
    "    \"100\", \"200\", \"300\", \"400\", \"600\", \"700\", \"800\", \"900\", \"911\"\n",
    "}\n",
    "\n",
    "def is_vip(num_str):\n",
    "    \"\"\"事前に定義したVIP番号リストに該当するか\"\"\"\n",
    "    return int(num_str in VIP_NUMBERS)\n",
    "\n",
    "SEQUENTIAL_NUMBERS = {\n",
    "    \"123\", \"234\", \"345\", \"456\", \"567\", \"678\", \"789\",\n",
    "    \"321\", \"432\", \"543\", \"654\", \"765\", \"876\", \"987\"\n",
    "}\n",
    "\n",
    "def is_sequential(num_str):\n",
    "    \"\"\"連番を検知\"\"\"\n",
    "    return int(num_str in SEQUENTIAL_NUMBERS)\n",
    "\n",
    "def process_data(csv_link, region_price_dict):\n",
    "    \n",
    "    # Read CSV file\n",
    "    df = pd.read_csv(\n",
    "        csv_link,\n",
    "        dtype={\n",
    "            \"id\": int,\n",
    "            \"plate\": str,\n",
    "        },\n",
    "        parse_dates=[\"date\"],\n",
    "    )\n",
    "    \n",
    "    # Ensure 'date' is in datetime format\n",
    "    df[\"date\"] = pd.to_datetime(df[\"date\"], errors=\"coerce\")\n",
    "    \n",
    "    # Extracting date features\n",
    "    df[\"year\"] = df[\"date\"].dt.year\n",
    "    df[\"month\"] = df[\"date\"].dt.month\n",
    "    df[\"day\"] = df[\"date\"].dt.day\n",
    "    df[\"weekday\"] = df[\"date\"].dt.weekday\n",
    "    df[\"day_of_year\"] = df[\"date\"].dt.dayofyear\n",
    "    # Removing unnecessary columns\n",
    "    df = df.drop(columns=[\"date\", \"month\", \"day\", \"id\"])\n",
    "    \n",
    "    # Adding features (advantage on road (bool), significance (int))\n",
    "    df = add_advantage_on_road_and_significance(df)\n",
    "    \n",
    "    # Standardizing plate format (ensuring 9-character plates)\n",
    "    df[\"plate\"] = df[\"plate\"].apply(lambda plate: plate if len(plate) == 9 else f\"{plate[:6]}0{plate[6:]}\")\n",
    "\n",
    "    # add region code\n",
    "    df[\"region_name\"] = df[\"plate\"].apply(get_region_code).astype(str)\n",
    "\n",
    "    # add series\n",
    "    df[\"plate_number\"] = df[\"plate\"].apply(lambda plate: plate[1:4]).astype(str)\n",
    "\n",
    "    # add number\n",
    "    df[\"plate_series\"] = df[\"plate\"].apply(lambda plate: plate[0]+plate[4:6]).astype(str)\n",
    "\n",
    "    # add region number\n",
    "    df[\"plate_region\"] = df[\"plate\"].apply(lambda plate: plate[6:]).astype(str)\n",
    "\n",
    "    # add VIP / zoro / sequential features\n",
    "    df[\"is_zoro\"] = df[\"plate_number\"].apply(is_zoro)\n",
    "    df[\"is_vip\"] = df[\"plate_number\"].apply(is_vip)\n",
    "    df[\"is_seq\"] = df[\"plate_number\"].apply(is_sequential)\n",
    "    df[\"has_repeated_letters\"] = df[\"plate_series\"].apply(has_repeated_letters)\n",
    "    \n",
    "    df = df.drop(columns=[\"plate\"], errors=\"ignore\")\n",
    "\n",
    "    # map region average to each records\n",
    "    df[\"region_avg_price\"] = df[\"region_name\"].map(region_price_dict)\n",
    "\n",
    "    # Apply logarithm transformation\n",
    "    df['price'] = np.log1p(df['price'])\n",
    "    df['region_avg_price'] = np.log1p(df['region_avg_price'])\n",
    "    \n",
    "    return df\n",
    "\n",
    "# get dict of average region price\n",
    "train_link = \"/kaggle/input/russian-car-plates-prices-prediction/train.csv\"\n",
    "df = pd.read_csv(\n",
    "    train_link,\n",
    "    dtype={\n",
    "        \"id\": int,\n",
    "        \"plate\": str,\n",
    "    },\n",
    "    parse_dates=[\"date\"],\n",
    ")\n",
    "\n",
    "df[\"region_code\"] = df[\"plate\"].apply(get_region_code)\n",
    "df['region_avg_price'] = df.groupby(\"region_code\")[\"price\"].transform(\"mean\") \n",
    "region_avg_price_dict = df.groupby(\"region_code\")[\"region_avg_price\"].first().to_dict()\n",
    "\n",
    "# read data\n",
    "dataset_link = \"/kaggle/input/russian-car-plates-prices-prediction/train.csv\"\n",
    "train_df = process_data(dataset_link, region_avg_price_dict)\n",
    "train_df.head(2)"
   ]
  },
  {
   "cell_type": "markdown",
   "id": "4cc8d5b2",
   "metadata": {
    "execution": {
     "iopub.status.busy": "2025-03-18T04:19:13.32891Z",
     "iopub.status.idle": "2025-03-18T04:19:13.329289Z",
     "shell.execute_reply": "2025-03-18T04:19:13.329116Z"
    },
    "papermill": {
     "duration": 0.011421,
     "end_time": "2025-05-16T05:31:31.500895",
     "exception": false,
     "start_time": "2025-05-16T05:31:31.489474",
     "status": "completed"
    },
    "tags": []
   },
   "source": [
    "# Training phase"
   ]
  },
  {
   "cell_type": "code",
   "execution_count": 4,
   "id": "480ba2c1",
   "metadata": {
    "execution": {
     "iopub.execute_input": "2025-05-16T05:31:31.527385Z",
     "iopub.status.busy": "2025-05-16T05:31:31.526985Z",
     "iopub.status.idle": "2025-05-16T05:46:03.031140Z",
     "shell.execute_reply": "2025-05-16T05:46:03.029835Z"
    },
    "papermill": {
     "duration": 871.519999,
     "end_time": "2025-05-16T05:46:03.033594",
     "exception": false,
     "start_time": "2025-05-16T05:31:31.513595",
     "status": "completed"
    },
    "tags": []
   },
   "outputs": [
    {
     "name": "stderr",
     "output_type": "stream",
     "text": [
      "No path specified. Models will be saved in: \"AutogluonModels/ag-20250516_053131\"\n",
      "Verbosity: 2 (Standard Logging)\n",
      "=================== System Info ===================\n",
      "AutoGluon Version:  1.2\n",
      "Python Version:     3.10.12\n",
      "Operating System:   Linux\n",
      "Platform Machine:   x86_64\n",
      "Platform Version:   #1 SMP PREEMPT_DYNAMIC Sun Nov 10 10:07:59 UTC 2024\n",
      "CPU Count:          4\n",
      "Memory Avail:       30.09 GB / 31.35 GB (96.0%)\n",
      "Disk Space Avail:   19.50 GB / 19.52 GB (99.9%)\n",
      "===================================================\n",
      "No presets specified! To achieve strong results with AutoGluon, it is recommended to use the available presets. Defaulting to `'medium'`...\n",
      "\tRecommended Presets (For more details refer to https://auto.gluon.ai/stable/tutorials/tabular/tabular-essentials.html#presets):\n",
      "\tpresets='experimental' : New in v1.2: Pre-trained foundation model + parallel fits. The absolute best accuracy without consideration for inference speed. Does not support GPU.\n",
      "\tpresets='best'         : Maximize accuracy. Recommended for most users. Use in competitions and benchmarks.\n",
      "\tpresets='high'         : Strong accuracy with fast inference speed.\n",
      "\tpresets='good'         : Good accuracy with very fast inference speed.\n",
      "\tpresets='medium'       : Fast training time, ideal for initial prototyping.\n",
      "Beginning AutoGluon training ... Time limit = 3600s\n",
      "AutoGluon will save models to \"/kaggle/working/AutogluonModels/ag-20250516_053131\"\n",
      "Train Data Rows:    51635\n",
      "Train Data Columns: 14\n",
      "Label Column:       price\n",
      "AutoGluon infers your prediction problem is: 'regression' (because dtype of label-column == float and label-values can't be converted to int).\n",
      "\tLabel info (max, min, mean, stddev): (18.420680753952364, 9.90353755128617, 12.10283, 1.15881)\n",
      "\tIf 'regression' is not the correct problem_type, please manually specify the problem_type parameter during Predictor init (You may specify problem_type as one of: ['binary', 'multiclass', 'regression', 'quantile'])\n",
      "Problem Type:       regression\n",
      "Preprocessing data ...\n",
      "Using Feature Generators to preprocess the data ...\n",
      "Fitting AutoMLPipelineFeatureGenerator...\n",
      "\tAvailable Memory:                    30815.37 MB\n",
      "\tTrain Data (Original)  Memory Usage: 15.17 MB (0.0% of available memory)\n",
      "\tInferring data type of each feature based on column values. Set feature_metadata_in to manually specify special dtypes of the features.\n",
      "\tStage 1 Generators:\n",
      "\t\tFitting AsTypeFeatureGenerator...\n",
      "\t\t\tNote: Converting 5 features to boolean dtype as they only contain 2 unique values.\n",
      "\tStage 2 Generators:\n",
      "\t\tFitting FillNaFeatureGenerator...\n",
      "\tStage 3 Generators:\n",
      "\t\tFitting IdentityFeatureGenerator...\n",
      "\t\tFitting CategoryFeatureGenerator...\n",
      "\t\t\tFitting CategoryMemoryMinimizeFeatureGenerator...\n",
      "\tStage 4 Generators:\n",
      "\t\tFitting DropUniqueFeatureGenerator...\n",
      "\tStage 5 Generators:\n",
      "\t\tFitting DropDuplicatesFeatureGenerator...\n",
      "\tTypes of features in original data (raw dtype, special dtypes):\n",
      "\t\t('bool', [])   : 1 | ['has_repeated_letters']\n",
      "\t\t('float', [])  : 1 | ['region_avg_price']\n",
      "\t\t('int', [])    : 8 | ['year', 'weekday', 'day_of_year', 'advantage_on_road', 'significance', ...]\n",
      "\t\t('object', []) : 4 | ['region_name', 'plate_number', 'plate_series', 'plate_region']\n",
      "\tTypes of features in processed data (raw dtype, special dtypes):\n",
      "\t\t('category', [])  : 4 | ['region_name', 'plate_number', 'plate_series', 'plate_region']\n",
      "\t\t('float', [])     : 1 | ['region_avg_price']\n",
      "\t\t('int', [])       : 4 | ['year', 'weekday', 'day_of_year', 'significance']\n",
      "\t\t('int', ['bool']) : 5 | ['advantage_on_road', 'is_zoro', 'is_vip', 'is_seq', 'has_repeated_letters']\n",
      "\t0.4s = Fit runtime\n",
      "\t14 features in original data used to generate 14 features in processed data.\n",
      "\tTrain Data (Processed) Memory Usage: 1.97 MB (0.0% of available memory)\n",
      "Data preprocessing and feature engineering runtime = 0.48s ...\n",
      "AutoGluon will gauge predictive performance using evaluation metric: 'smape1'\n",
      "\tThis metric's sign has been flipped to adhere to being higher_is_better. The metric score can be multiplied by -1 to get the metric value.\n",
      "\tTo change this, specify the eval_metric parameter of Predictor()\n",
      "Automatically generating train/validation split with holdout_frac=0.04841677156967174, Train Rows: 49135, Val Rows: 2500\n",
      "User-specified model hyperparameters to be fit:\n",
      "{\n",
      "\t'NN_TORCH': [{}],\n",
      "\t'GBM': [{'extra_trees': True, 'ag_args': {'name_suffix': 'XT'}}, {}, {'learning_rate': 0.03, 'num_leaves': 128, 'feature_fraction': 0.9, 'min_data_in_leaf': 3, 'ag_args': {'name_suffix': 'Large', 'priority': 0, 'hyperparameter_tune_kwargs': None}}],\n",
      "\t'CAT': [{}],\n",
      "\t'XGB': [{}],\n",
      "\t'FASTAI': [{}],\n",
      "\t'RF': [{'criterion': 'gini', 'ag_args': {'name_suffix': 'Gini', 'problem_types': ['binary', 'multiclass']}}, {'criterion': 'entropy', 'ag_args': {'name_suffix': 'Entr', 'problem_types': ['binary', 'multiclass']}}, {'criterion': 'squared_error', 'ag_args': {'name_suffix': 'MSE', 'problem_types': ['regression', 'quantile']}}],\n",
      "\t'XT': [{'criterion': 'gini', 'ag_args': {'name_suffix': 'Gini', 'problem_types': ['binary', 'multiclass']}}, {'criterion': 'entropy', 'ag_args': {'name_suffix': 'Entr', 'problem_types': ['binary', 'multiclass']}}, {'criterion': 'squared_error', 'ag_args': {'name_suffix': 'MSE', 'problem_types': ['regression', 'quantile']}}],\n",
      "\t'KNN': [{'weights': 'uniform', 'ag_args': {'name_suffix': 'Unif'}}, {'weights': 'distance', 'ag_args': {'name_suffix': 'Dist'}}],\n",
      "}\n",
      "Fitting 11 L1 models, fit_strategy=\"sequential\" ...\n",
      "Fitting model: KNeighborsUnif ... Training model for up to 3599.52s of the 3599.52s of remaining time.\n",
      "\t-78.361\t = Validation score   (-smape1)\n",
      "\t0.88s\t = Training   runtime\n",
      "\t0.03s\t = Validation runtime\n",
      "Fitting model: KNeighborsDist ... Training model for up to 3598.60s of the 3598.60s of remaining time.\n",
      "\t-78.7224\t = Validation score   (-smape1)\n",
      "\t0.06s\t = Training   runtime\n",
      "\t0.02s\t = Validation runtime\n",
      "Fitting model: LightGBMXT ... Training model for up to 3598.51s of the 3598.51s of remaining time.\n"
     ]
    },
    {
     "name": "stdout",
     "output_type": "stream",
     "text": [
      "[1000]\tvalid_set's l2: 0.356966\tvalid_set's smape1: -39.0166\n",
      "[2000]\tvalid_set's l2: 0.352573\tvalid_set's smape1: -38.4642\n",
      "[3000]\tvalid_set's l2: 0.351861\tvalid_set's smape1: -38.2544\n",
      "[4000]\tvalid_set's l2: 0.354379\tvalid_set's smape1: -38.1577\n",
      "[5000]\tvalid_set's l2: 0.356496\tvalid_set's smape1: -38.1822\n"
     ]
    },
    {
     "name": "stderr",
     "output_type": "stream",
     "text": [
      "\t-38.1471\t = Validation score   (-smape1)\n",
      "\t27.95s\t = Training   runtime\n",
      "\t0.92s\t = Validation runtime\n",
      "Fitting model: LightGBM ... Training model for up to 3569.18s of the 3569.18s of remaining time.\n"
     ]
    },
    {
     "name": "stdout",
     "output_type": "stream",
     "text": [
      "[1000]\tvalid_set's l2: 0.330062\tvalid_set's smape1: -37.1461\n",
      "[2000]\tvalid_set's l2: 0.326941\tvalid_set's smape1: -36.8635\n",
      "[3000]\tvalid_set's l2: 0.326667\tvalid_set's smape1: -36.7386\n",
      "[4000]\tvalid_set's l2: 0.326815\tvalid_set's smape1: -36.617\n",
      "[5000]\tvalid_set's l2: 0.326809\tvalid_set's smape1: -36.5421\n",
      "[6000]\tvalid_set's l2: 0.327906\tvalid_set's smape1: -36.5062\n",
      "[7000]\tvalid_set's l2: 0.328277\tvalid_set's smape1: -36.5355\n"
     ]
    },
    {
     "name": "stderr",
     "output_type": "stream",
     "text": [
      "\t-36.4934\t = Validation score   (-smape1)\n",
      "\t54.6s\t = Training   runtime\n",
      "\t3.17s\t = Validation runtime\n",
      "Fitting model: RandomForestMSE ... Training model for up to 3510.61s of the 3510.60s of remaining time.\n",
      "\t-42.6036\t = Validation score   (-smape1)\n",
      "\t36.81s\t = Training   runtime\n",
      "\t0.2s\t = Validation runtime\n",
      "Fitting model: CatBoost ... Training model for up to 3472.24s of the 3472.24s of remaining time.\n",
      "\t-36.1138\t = Validation score   (-smape1)\n",
      "\t373.58s\t = Training   runtime\n",
      "\t0.12s\t = Validation runtime\n",
      "Fitting model: ExtraTreesMSE ... Training model for up to 3097.62s of the 3097.62s of remaining time.\n",
      "\t-44.7822\t = Validation score   (-smape1)\n",
      "\t16.09s\t = Training   runtime\n",
      "\t0.17s\t = Validation runtime\n",
      "Fitting model: NeuralNetFastAI ... Training model for up to 3080.02s of the 3080.01s of remaining time.\n",
      "Metric smape1 is not supported by this model - using mean_squared_error instead\n",
      "\t-40.3188\t = Validation score   (-smape1)\n",
      "\t94.55s\t = Training   runtime\n",
      "\t0.09s\t = Validation runtime\n",
      "Fitting model: XGBoost ... Training model for up to 2985.30s of the 2985.29s of remaining time.\n",
      "\t-37.8465\t = Validation score   (-smape1)\n",
      "\t64.23s\t = Training   runtime\n",
      "\t0.49s\t = Validation runtime\n",
      "Fitting model: NeuralNetTorch ... Training model for up to 2920.44s of the 2920.44s of remaining time.\n",
      "\t-38.0262\t = Validation score   (-smape1)\n",
      "\t155.16s\t = Training   runtime\n",
      "\t0.03s\t = Validation runtime\n",
      "Fitting model: LightGBMLarge ... Training model for up to 2765.24s of the 2765.23s of remaining time.\n"
     ]
    },
    {
     "name": "stdout",
     "output_type": "stream",
     "text": [
      "[1000]\tvalid_set's l2: 0.31757\tvalid_set's smape1: -35.9807\n"
     ]
    },
    {
     "name": "stderr",
     "output_type": "stream",
     "text": [
      "\t-35.9004\t = Validation score   (-smape1)\n",
      "\t34.56s\t = Training   runtime\n",
      "\t1.17s\t = Validation runtime\n",
      "Fitting model: WeightedEnsemble_L2 ... Training model for up to 360.00s of the 2728.91s of remaining time.\n",
      "\tEnsemble Weights: {'CatBoost': 0.353, 'LightGBM': 0.235, 'LightGBMLarge': 0.176, 'NeuralNetFastAI': 0.118, 'XGBoost': 0.059, 'NeuralNetTorch': 0.059}\n",
      "\t-34.4605\t = Validation score   (-smape1)\n",
      "\t0.04s\t = Training   runtime\n",
      "\t0.0s\t = Validation runtime\n",
      "AutoGluon training complete, total runtime = 871.17s ... Best model: WeightedEnsemble_L2 | Estimated inference throughput: 493.4 rows/s (2500 batch size)\n",
      "TabularPredictor saved. To load, use: predictor = TabularPredictor.load(\"/kaggle/working/AutogluonModels/ag-20250516_053131\")\n"
     ]
    }
   ],
   "source": [
    "# Define smape as metrics for AutoGluon\n",
    "smape_scorer = make_scorer(name='smape1', score_func=smape, greater_is_better=False)\n",
    "\n",
    "predictor = TabularPredictor(label='price', eval_metric=smape_scorer).fit(\n",
    "    train_df,\n",
    "    time_limit=3600,\n",
    ")"
   ]
  },
  {
   "cell_type": "markdown",
   "id": "8603c385",
   "metadata": {
    "papermill": {
     "duration": 0.01644,
     "end_time": "2025-05-16T05:46:03.067660",
     "exception": false,
     "start_time": "2025-05-16T05:46:03.051220",
     "status": "completed"
    },
    "tags": []
   },
   "source": [
    "# Generate Prediction"
   ]
  },
  {
   "cell_type": "code",
   "execution_count": 5,
   "id": "2ea6a780",
   "metadata": {
    "execution": {
     "iopub.execute_input": "2025-05-16T05:46:03.107301Z",
     "iopub.status.busy": "2025-05-16T05:46:03.106472Z",
     "iopub.status.idle": "2025-05-16T05:46:23.502538Z",
     "shell.execute_reply": "2025-05-16T05:46:23.501260Z"
    },
    "papermill": {
     "duration": 20.419717,
     "end_time": "2025-05-16T05:46:23.504337",
     "exception": false,
     "start_time": "2025-05-16T05:46:03.084620",
     "status": "completed"
    },
    "tags": []
   },
   "outputs": [
    {
     "name": "stdout",
     "output_type": "stream",
     "text": [
      "Done producing submission.csv\n"
     ]
    }
   ],
   "source": [
    "# Load test dataset\n",
    "test_data = pd.read_csv(\n",
    "    \"/kaggle/input/russian-car-plates-prices-prediction/test.csv\",\n",
    "    dtype={\"id\": int, \"plate\": str},\n",
    "    parse_dates=[\"date\"],\n",
    ")\n",
    "\n",
    "test_ids = test_data[\"id\"].copy()\n",
    "\n",
    "xgb_df_test = process_data(\"/kaggle/input/russian-car-plates-prices-prediction/test.csv\", region_avg_price_dict)\n",
    "\n",
    "# Make prediction\n",
    "test_data = TabularDataset(xgb_df_test)\n",
    "test_pred = predictor.predict(test_data)\n",
    "test_pred = np.round(np.expm1(test_pred))\n",
    "submission = pd.DataFrame()\n",
    "submission['id'] = test_ids\n",
    "submission['price'] = test_pred\n",
    "submission.to_csv('submission.csv',index=False)\n",
    "print('Done producing submission.csv')"
   ]
  },
  {
   "cell_type": "markdown",
   "id": "fc77a258",
   "metadata": {
    "papermill": {
     "duration": 0.024887,
     "end_time": "2025-05-16T05:46:23.546541",
     "exception": false,
     "start_time": "2025-05-16T05:46:23.521654",
     "status": "completed"
    },
    "tags": []
   },
   "source": [
    "**Now it is your turn to beat this 🚗💨**"
   ]
  }
 ],
 "metadata": {
  "kaggle": {
   "accelerator": "none",
   "dataSources": [
    {
     "databundleVersionId": 11239181,
     "sourceId": 94521,
     "sourceType": "competition"
    }
   ],
   "dockerImageVersionId": 30918,
   "isGpuEnabled": false,
   "isInternetEnabled": true,
   "language": "python",
   "sourceType": "notebook"
  },
  "kernelspec": {
   "display_name": "Python 3",
   "language": "python",
   "name": "python3"
  },
  "language_info": {
   "codemirror_mode": {
    "name": "ipython",
    "version": 3
   },
   "file_extension": ".py",
   "mimetype": "text/x-python",
   "name": "python",
   "nbconvert_exporter": "python",
   "pygments_lexer": "ipython3",
   "version": "3.10.12"
  },
  "papermill": {
   "default_parameters": {},
   "duration": 997.949202,
   "end_time": "2025-05-16T05:46:26.969602",
   "environment_variables": {},
   "exception": null,
   "input_path": "__notebook__.ipynb",
   "output_path": "__notebook__.ipynb",
   "parameters": {},
   "start_time": "2025-05-16T05:29:49.020400",
   "version": "2.6.0"
  }
 },
 "nbformat": 4,
 "nbformat_minor": 5
}
